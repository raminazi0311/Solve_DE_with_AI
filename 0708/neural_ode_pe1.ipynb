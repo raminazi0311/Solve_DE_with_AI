{
 "cells": [
  {
   "cell_type": "markdown",
   "id": "b16dfc76-0c78-416c-9565-c0825087a06a",
   "metadata": {
    "id": "b16dfc76-0c78-416c-9565-c0825087a06a"
   },
   "source": [
    "# Neural ODE"
   ]
  },
  {
   "cell_type": "code",
   "execution_count": 4,
   "id": "Ro6ASByzarq9",
   "metadata": {
    "executionInfo": {
     "elapsed": 308,
     "status": "ok",
     "timestamp": 1751859742742,
     "user": {
      "displayName": "홍기표",
      "userId": "01843284721380362370"
     },
     "user_tz": -540
    },
    "id": "Ro6ASByzarq9"
   },
   "outputs": [],
   "source": [
    "import jax\n",
    "import jax.numpy as jnp\n",
    "import jax.random as jr\n",
    "import optax\n",
    "import equinox as eqx\n",
    "import diffrax\n",
    "import jax.nn as jnn\n",
    "import matplotlib.pyplot as plt\n",
    "import time\n",
    "from datetime import datetime"
   ]
  },
  {
   "cell_type": "code",
   "execution_count": 5,
   "id": "3kZQ-pvyc1zn",
   "metadata": {
    "executionInfo": {
     "elapsed": 3,
     "status": "ok",
     "timestamp": 1751859742752,
     "user": {
      "displayName": "홍기표",
      "userId": "01843284721380362370"
     },
     "user_tz": -540
    },
    "id": "3kZQ-pvyc1zn"
   },
   "outputs": [],
   "source": [
    "def get_data(ts, y0):\n",
    "    def f(t, y, args):\n",
    "        beta, alpha = args\n",
    "        S, I = y\n",
    "        return jnp.array([-beta * S * I, beta * S * I - alpha * I])\n",
    "\n",
    "    args = (0.025, 0.2)\n",
    "    sol = diffrax.diffeqsolve(\n",
    "        diffrax.ODETerm(f),\n",
    "        diffrax.Tsit5(),\n",
    "        t0=0,\n",
    "        t1=ts[-1],\n",
    "        dt0=0.1,\n",
    "        y0=y0,\n",
    "        args=args,\n",
    "        saveat=diffrax.SaveAt(ts=ts)\n",
    "    )\n",
    "    return ts, sol.ys\n",
    "\n",
    "\n",
    "def relative_error(pred, true):\n",
    "    return jnp.linalg.norm(pred - true, 2) / jnp.linalg.norm(true, 2)"
   ]
  },
  {
   "cell_type": "code",
   "execution_count": 39,
   "id": "243412cd-9f19-489f-a10e-bf0eb8bf3788",
   "metadata": {
    "executionInfo": {
     "elapsed": 18,
     "status": "ok",
     "timestamp": 1751863349404,
     "user": {
      "displayName": "홍기표",
      "userId": "01843284721380362370"
     },
     "user_tz": -540
    },
    "id": "243412cd-9f19-489f-a10e-bf0eb8bf3788"
   },
   "outputs": [],
   "source": [
    "class Func(eqx.Module):\n",
    "    alpha: eqx.nn.MLP\n",
    "    beta: eqx.nn.MLP\n",
    "\n",
    "    def __init__(self, width_size, depth, *, key):\n",
    "        key1, key2 = jr.split(key, 2)\n",
    "        self.alpha = eqx.nn.MLP(1, 1, width_size, depth, activation=jnn.softplus, final_activation=jnn.sigmoid, key=key1)\n",
    "        self.beta = eqx.nn.MLP(1, 1, width_size, depth, activation=jnn.softplus, final_activation=jnn.sigmoid, key=key2)\n",
    "\n",
    "    def __call__(self, t, y, args):\n",
    "        S, I = y\n",
    "        t_input = jnp.array([t])\n",
    "        beta = self.beta(t_input)[0]\n",
    "        alpha = self.alpha(t_input)[0]\n",
    "        dSdt = -beta * S * I\n",
    "        dIdt = beta * S * I - alpha * I\n",
    "        return jnp.array([dSdt, dIdt])\n",
    "\n",
    "\n",
    "class NeuralODE(eqx.Module):\n",
    "    func: Func\n",
    "\n",
    "    def __init__(self, width_size, depth, *, key):\n",
    "        self.func = Func(width_size, depth, key=key)\n",
    "\n",
    "    def __call__(self, ts, y0):\n",
    "        solution = diffrax.diffeqsolve(\n",
    "            diffrax.ODETerm(self.func),\n",
    "            diffrax.Tsit5(),\n",
    "            t0=0,\n",
    "            t1=ts[-1],\n",
    "            dt0=0.01,\n",
    "            y0=y0,\n",
    "            stepsize_controller=diffrax.PIDController(rtol=1e-3, atol=1e-6),\n",
    "            saveat=diffrax.SaveAt(ts=ts)\n",
    "        )\n",
    "        return solution.ys\n",
    "\n",
    "\n",
    "def main(\n",
    "    lr=3e-3,\n",
    "    width_size=64,\n",
    "    depth=2,\n",
    "    seed=5678,\n",
    "    steps=1000,\n",
    "):\n",
    "    key = jr.PRNGKey(seed)\n",
    "\n",
    "    ts = jnp.linspace(0., 30., 100)\n",
    "    y0 = jnp.array([100.0, 1.0])\n",
    "    ts, ys = get_data(ts, y0)\n",
    "\n",
    "    model = NeuralODE(width_size, depth, key=key)\n",
    "    optim = optax.adam(lr)\n",
    "\n",
    "    @eqx.filter_value_and_grad\n",
    "    def grad_loss(model):\n",
    "        pred = model(ts, y0)\n",
    "        return jnp.mean((pred - ys) ** 2)\n",
    "\n",
    "    @eqx.filter_jit\n",
    "    def make_step(model, opt_state):\n",
    "        loss, grads = grad_loss(model)\n",
    "        updates, opt_state = optim.update(grads, opt_state, value=loss)\n",
    "        model = eqx.apply_updates(model, updates)\n",
    "        return loss, model, opt_state\n",
    "\n",
    "    opt_state = optim.init(eqx.filter(model, eqx.is_inexact_array))\n",
    "    loss_list = []\n",
    "\n",
    "    for step in range(steps):\n",
    "        loss, model, opt_state = make_step(model, opt_state)\n",
    "        loss_list.append(loss)\n",
    "        if step % 100 == 0 or step == steps - 1:\n",
    "            print(f\"Step {step}, Loss: {loss:.4e}\")\n",
    "\n",
    "    return ts, ys, model, loss_list"
   ]
  },
  {
   "cell_type": "code",
   "execution_count": 43,
   "id": "l4uK5IE1b0rL",
   "metadata": {
    "colab": {
     "base_uri": "https://localhost:8080/",
     "height": 360
    },
    "executionInfo": {
     "elapsed": 47250,
     "status": "error",
     "timestamp": 1751863784713,
     "user": {
      "displayName": "홍기표",
      "userId": "01843284721380362370"
     },
     "user_tz": -540
    },
    "id": "l4uK5IE1b0rL",
    "outputId": "0e17fd7a-4179-46c7-da78-87bd30990475"
   },
   "outputs": [
    {
     "name": "stdout",
     "output_type": "stream",
     "text": [
      "[   0] Loss: 5.5672e+02\n"
     ]
    },
    {
     "ename": "KeyboardInterrupt",
     "evalue": "",
     "output_type": "error",
     "traceback": [
      "\u001b[0;31m---------------------------------------------------------------------------\u001b[0m",
      "\u001b[0;31mKeyboardInterrupt\u001b[0m                         Traceback (most recent call last)",
      "\u001b[0;32m/tmp/ipython-input-43-1229695874.py\u001b[0m in \u001b[0;36m<cell line: 0>\u001b[0;34m()\u001b[0m\n\u001b[0;32m----> 1\u001b[0;31m \u001b[0mdata_ts\u001b[0m\u001b[0;34m,\u001b[0m \u001b[0mdata_ys\u001b[0m\u001b[0;34m,\u001b[0m \u001b[0mmodel\u001b[0m\u001b[0;34m,\u001b[0m \u001b[0mloss_list\u001b[0m \u001b[0;34m=\u001b[0m \u001b[0mmain\u001b[0m\u001b[0;34m(\u001b[0m\u001b[0;34m)\u001b[0m\u001b[0;34m\u001b[0m\u001b[0;34m\u001b[0m\u001b[0m\n\u001b[0m",
      "\u001b[0;32m/tmp/ipython-input-42-1836372695.py\u001b[0m in \u001b[0;36mmain\u001b[0;34m(lr, width_size, depth, seed, steps)\u001b[0m\n\u001b[1;32m     75\u001b[0m \u001b[0;34m\u001b[0m\u001b[0m\n\u001b[1;32m     76\u001b[0m     \u001b[0;32mfor\u001b[0m \u001b[0mstep\u001b[0m \u001b[0;32min\u001b[0m \u001b[0mrange\u001b[0m\u001b[0;34m(\u001b[0m\u001b[0msteps\u001b[0m\u001b[0;34m)\u001b[0m\u001b[0;34m:\u001b[0m\u001b[0;34m\u001b[0m\u001b[0;34m\u001b[0m\u001b[0m\n\u001b[0;32m---> 77\u001b[0;31m         \u001b[0mloss\u001b[0m\u001b[0;34m,\u001b[0m \u001b[0mmodel\u001b[0m\u001b[0;34m,\u001b[0m \u001b[0mopt_state\u001b[0m \u001b[0;34m=\u001b[0m \u001b[0mmake_step\u001b[0m\u001b[0;34m(\u001b[0m\u001b[0mmodel\u001b[0m\u001b[0;34m,\u001b[0m \u001b[0mopt_state\u001b[0m\u001b[0;34m,\u001b[0m \u001b[0mts\u001b[0m\u001b[0;34m,\u001b[0m \u001b[0my0\u001b[0m\u001b[0;34m,\u001b[0m \u001b[0mys\u001b[0m\u001b[0;34m,\u001b[0m \u001b[0moptim\u001b[0m\u001b[0;34m)\u001b[0m\u001b[0;34m\u001b[0m\u001b[0;34m\u001b[0m\u001b[0m\n\u001b[0m\u001b[1;32m     78\u001b[0m         \u001b[0mloss_list\u001b[0m\u001b[0;34m.\u001b[0m\u001b[0mappend\u001b[0m\u001b[0;34m(\u001b[0m\u001b[0mloss\u001b[0m\u001b[0;34m)\u001b[0m\u001b[0;34m\u001b[0m\u001b[0;34m\u001b[0m\u001b[0m\n\u001b[1;32m     79\u001b[0m         \u001b[0;32mif\u001b[0m \u001b[0mstep\u001b[0m \u001b[0;34m%\u001b[0m \u001b[0;36m100\u001b[0m \u001b[0;34m==\u001b[0m \u001b[0;36m0\u001b[0m \u001b[0;32mor\u001b[0m \u001b[0mstep\u001b[0m \u001b[0;34m==\u001b[0m \u001b[0msteps\u001b[0m \u001b[0;34m-\u001b[0m \u001b[0;36m1\u001b[0m\u001b[0;34m:\u001b[0m\u001b[0;34m\u001b[0m\u001b[0;34m\u001b[0m\u001b[0m\n",
      "    \u001b[0;31m[... skipping hidden 3 frame]\u001b[0m\n",
      "\u001b[0;32m/usr/local/lib/python3.11/dist-packages/jax/_src/pjit.py\u001b[0m in \u001b[0;36mcache_miss\u001b[0;34m(*args, **kwargs)\u001b[0m\n\u001b[1;32m    339\u001b[0m \u001b[0;34m\u001b[0m\u001b[0m\n\u001b[1;32m    340\u001b[0m     (outs, out_flat, out_tree, args_flat, jaxpr, attrs_tracked, executable,\n\u001b[0;32m--> 341\u001b[0;31m      pgle_profiler) = _python_pjit_helper(fun, jit_info, *args, **kwargs)\n\u001b[0m\u001b[1;32m    342\u001b[0m \u001b[0;34m\u001b[0m\u001b[0m\n\u001b[1;32m    343\u001b[0m     maybe_fastpath_data = _get_fastpath_data(\n",
      "\u001b[0;32m/usr/local/lib/python3.11/dist-packages/jax/_src/pjit.py\u001b[0m in \u001b[0;36m_python_pjit_helper\u001b[0;34m(fun, jit_info, *args, **kwargs)\u001b[0m\n\u001b[1;32m    193\u001b[0m       \u001b[0margs_flat\u001b[0m \u001b[0;34m=\u001b[0m \u001b[0mmap\u001b[0m\u001b[0;34m(\u001b[0m\u001b[0mcore\u001b[0m\u001b[0;34m.\u001b[0m\u001b[0mfull_lower\u001b[0m\u001b[0;34m,\u001b[0m \u001b[0margs_flat\u001b[0m\u001b[0;34m)\u001b[0m\u001b[0;34m\u001b[0m\u001b[0;34m\u001b[0m\u001b[0m\n\u001b[1;32m    194\u001b[0m       \u001b[0mcore\u001b[0m\u001b[0;34m.\u001b[0m\u001b[0mcheck_eval_args\u001b[0m\u001b[0;34m(\u001b[0m\u001b[0margs_flat\u001b[0m\u001b[0;34m)\u001b[0m\u001b[0;34m\u001b[0m\u001b[0;34m\u001b[0m\u001b[0m\n\u001b[0;32m--> 195\u001b[0;31m       \u001b[0mout_flat\u001b[0m\u001b[0;34m,\u001b[0m \u001b[0mcompiled\u001b[0m\u001b[0;34m,\u001b[0m \u001b[0mprofiler\u001b[0m \u001b[0;34m=\u001b[0m \u001b[0m_pjit_call_impl_python\u001b[0m\u001b[0;34m(\u001b[0m\u001b[0;34m*\u001b[0m\u001b[0margs_flat\u001b[0m\u001b[0;34m,\u001b[0m \u001b[0;34m**\u001b[0m\u001b[0mp\u001b[0m\u001b[0;34m.\u001b[0m\u001b[0mparams\u001b[0m\u001b[0;34m)\u001b[0m\u001b[0;34m\u001b[0m\u001b[0;34m\u001b[0m\u001b[0m\n\u001b[0m\u001b[1;32m    196\u001b[0m     \u001b[0;32melse\u001b[0m\u001b[0;34m:\u001b[0m\u001b[0;34m\u001b[0m\u001b[0;34m\u001b[0m\u001b[0m\n\u001b[1;32m    197\u001b[0m       \u001b[0mout_flat\u001b[0m \u001b[0;34m=\u001b[0m \u001b[0mpjit_p\u001b[0m\u001b[0;34m.\u001b[0m\u001b[0mbind\u001b[0m\u001b[0;34m(\u001b[0m\u001b[0;34m*\u001b[0m\u001b[0margs_flat\u001b[0m\u001b[0;34m,\u001b[0m \u001b[0;34m**\u001b[0m\u001b[0mp\u001b[0m\u001b[0;34m.\u001b[0m\u001b[0mparams\u001b[0m\u001b[0;34m)\u001b[0m\u001b[0;34m\u001b[0m\u001b[0;34m\u001b[0m\u001b[0m\n",
      "\u001b[0;32m/usr/local/lib/python3.11/dist-packages/jax/_src/pjit.py\u001b[0m in \u001b[0;36m_pjit_call_impl_python\u001b[0;34m(jaxpr, in_shardings, out_shardings, in_layouts, out_layouts, resource_env, donated_invars, name, keep_unused, inline, compiler_options_kvs, *args)\u001b[0m\n\u001b[1;32m   1677\u001b[0m                           \u001b[0;34m(\u001b[0m\u001b[0;34m\"abstract args\"\u001b[0m\u001b[0;34m,\u001b[0m \u001b[0mmap\u001b[0m\u001b[0;34m(\u001b[0m\u001b[0mcore\u001b[0m\u001b[0;34m.\u001b[0m\u001b[0mabstractify\u001b[0m\u001b[0;34m,\u001b[0m \u001b[0margs\u001b[0m\u001b[0;34m)\u001b[0m\u001b[0;34m)\u001b[0m\u001b[0;34m,\u001b[0m\u001b[0;34m\u001b[0m\u001b[0;34m\u001b[0m\u001b[0m\n\u001b[1;32m   1678\u001b[0m                           (\"fingerprint\", fingerprint))\n\u001b[0;32m-> 1679\u001b[0;31m   \u001b[0;32mreturn\u001b[0m \u001b[0mcompiled\u001b[0m\u001b[0;34m.\u001b[0m\u001b[0munsafe_call\u001b[0m\u001b[0;34m(\u001b[0m\u001b[0;34m*\u001b[0m\u001b[0margs\u001b[0m\u001b[0;34m)\u001b[0m\u001b[0;34m,\u001b[0m \u001b[0mcompiled\u001b[0m\u001b[0;34m,\u001b[0m \u001b[0mpgle_profiler\u001b[0m\u001b[0;34m\u001b[0m\u001b[0;34m\u001b[0m\u001b[0m\n\u001b[0m\u001b[1;32m   1680\u001b[0m \u001b[0;34m\u001b[0m\u001b[0m\n\u001b[1;32m   1681\u001b[0m \u001b[0;34m@\u001b[0m\u001b[0mweakref_lru_cache\u001b[0m\u001b[0;34m\u001b[0m\u001b[0;34m\u001b[0m\u001b[0m\n",
      "\u001b[0;32m/usr/local/lib/python3.11/dist-packages/jax/_src/profiler.py\u001b[0m in \u001b[0;36mwrapper\u001b[0;34m(*args, **kwargs)\u001b[0m\n\u001b[1;32m    332\u001b[0m   \u001b[0;32mdef\u001b[0m \u001b[0mwrapper\u001b[0m\u001b[0;34m(\u001b[0m\u001b[0;34m*\u001b[0m\u001b[0margs\u001b[0m\u001b[0;34m,\u001b[0m \u001b[0;34m**\u001b[0m\u001b[0mkwargs\u001b[0m\u001b[0;34m)\u001b[0m\u001b[0;34m:\u001b[0m\u001b[0;34m\u001b[0m\u001b[0;34m\u001b[0m\u001b[0m\n\u001b[1;32m    333\u001b[0m     \u001b[0;32mwith\u001b[0m \u001b[0mTraceAnnotation\u001b[0m\u001b[0;34m(\u001b[0m\u001b[0mname\u001b[0m\u001b[0;34m,\u001b[0m \u001b[0;34m**\u001b[0m\u001b[0mdecorator_kwargs\u001b[0m\u001b[0;34m)\u001b[0m\u001b[0;34m:\u001b[0m\u001b[0;34m\u001b[0m\u001b[0;34m\u001b[0m\u001b[0m\n\u001b[0;32m--> 334\u001b[0;31m       \u001b[0;32mreturn\u001b[0m \u001b[0mfunc\u001b[0m\u001b[0;34m(\u001b[0m\u001b[0;34m*\u001b[0m\u001b[0margs\u001b[0m\u001b[0;34m,\u001b[0m \u001b[0;34m**\u001b[0m\u001b[0mkwargs\u001b[0m\u001b[0;34m)\u001b[0m\u001b[0;34m\u001b[0m\u001b[0;34m\u001b[0m\u001b[0m\n\u001b[0m\u001b[1;32m    335\u001b[0m     \u001b[0;32mreturn\u001b[0m \u001b[0mwrapper\u001b[0m\u001b[0;34m\u001b[0m\u001b[0;34m\u001b[0m\u001b[0m\n\u001b[1;32m    336\u001b[0m   \u001b[0;32mreturn\u001b[0m \u001b[0mwrapper\u001b[0m\u001b[0;34m\u001b[0m\u001b[0;34m\u001b[0m\u001b[0m\n",
      "\u001b[0;32m/usr/local/lib/python3.11/dist-packages/jax/_src/interpreters/pxla.py\u001b[0m in \u001b[0;36m__call__\u001b[0;34m(self, *args)\u001b[0m\n\u001b[1;32m   1285\u001b[0m           or self.has_host_callbacks):\n\u001b[1;32m   1286\u001b[0m         \u001b[0minput_bufs\u001b[0m \u001b[0;34m=\u001b[0m \u001b[0mself\u001b[0m\u001b[0;34m.\u001b[0m\u001b[0m_add_tokens_to_inputs\u001b[0m\u001b[0;34m(\u001b[0m\u001b[0minput_bufs\u001b[0m\u001b[0;34m)\u001b[0m\u001b[0;34m\u001b[0m\u001b[0;34m\u001b[0m\u001b[0m\n\u001b[0;32m-> 1287\u001b[0;31m         results = self.xla_executable.execute_sharded(\n\u001b[0m\u001b[1;32m   1288\u001b[0m             \u001b[0minput_bufs\u001b[0m\u001b[0;34m,\u001b[0m \u001b[0mwith_tokens\u001b[0m\u001b[0;34m=\u001b[0m\u001b[0;32mTrue\u001b[0m\u001b[0;34m\u001b[0m\u001b[0;34m\u001b[0m\u001b[0m\n\u001b[1;32m   1289\u001b[0m         )\n",
      "\u001b[0;31mKeyboardInterrupt\u001b[0m: "
     ]
    }
   ],
   "source": [
    "data_ts, data_ys, model, loss_list = main()"
   ]
  },
  {
   "cell_type": "code",
   "execution_count": null,
   "id": "mq6Qdy4IGVHq",
   "metadata": {
    "executionInfo": {
     "elapsed": 12,
     "status": "aborted",
     "timestamp": 1751863663590,
     "user": {
      "displayName": "홍기표",
      "userId": "01843284721380362370"
     },
     "user_tz": -540
    },
    "id": "mq6Qdy4IGVHq"
   },
   "outputs": [],
   "source": [
    "data_ts.shape, data_ys.shape"
   ]
  },
  {
   "cell_type": "code",
   "execution_count": null,
   "id": "Fved3DCtbqjO",
   "metadata": {
    "executionInfo": {
     "elapsed": 12,
     "status": "aborted",
     "timestamp": 1751863663593,
     "user": {
      "displayName": "홍기표",
      "userId": "01843284721380362370"
     },
     "user_tz": -540
    },
    "id": "Fved3DCtbqjO"
   },
   "outputs": [],
   "source": [
    "y0 = jnp.array([100.0, 1.0])\n",
    "exact_ts, exact_ys = get_data(jnp.linspace(0, 20, 1000), y0)\n",
    "\n",
    "model_ys = model(exact_ts, y0)\n",
    "\n",
    "rel_S = relative_error(model_ys[:, 0], exact_ys[:, 0])\n",
    "rel_I = relative_error(model_ys[:, 1], exact_ys[:, 1])\n",
    "\n",
    "fig, axs = plt.subplots(1, 3, figsize=(15, 5))\n",
    "axs[0].plot(exact_ts, exact_ys[:, 0], label=\"True S\")\n",
    "axs[0].plot(exact_ts, model_ys[:, 0], label=\"Pred S\", linestyle=\"--\")\n",
    "axs[0].plot(data_ts, data_ys[:, 0], label=\"data S\", linestyle=\"None\", marker=\".\")\n",
    "axs[0].set_title(f\"S (Rel. Error: {rel_S:.2e})\")\n",
    "axs[0].legend()\n",
    "\n",
    "axs[1].plot(exact_ts, exact_ys[:, 1], label=\"True I\")\n",
    "axs[1].plot(exact_ts, model_ys[:, 1], label=\"Pred I\", linestyle=\"--\")\n",
    "axs[1].plot(data_ts, data_ys[:, 1], label=\"data I\", linestyle=\"None\", marker=\".\")\n",
    "axs[1].set_title(f\"I (Rel. Error: {rel_I:.2e})\")\n",
    "axs[1].legend()\n",
    "\n",
    "axs[2].plot(loss_list)\n",
    "axs[2].set_yscale(\"log\")\n",
    "axs[2].set_title(\"Training Loss\")"
   ]
  },
  {
   "cell_type": "code",
   "execution_count": null,
   "id": "zZxo17ggdK-9",
   "metadata": {
    "executionInfo": {
     "elapsed": 14,
     "status": "aborted",
     "timestamp": 1751863663597,
     "user": {
      "displayName": "홍기표",
      "userId": "01843284721380362370"
     },
     "user_tz": -540
    },
    "id": "zZxo17ggdK-9"
   },
   "outputs": [],
   "source": [
    "def get_alpha_beta(model, ts):\n",
    "    t_inputs = ts[:, None]  # (N,) -> (N,1)\n",
    "    alpha_raw = jax.vmap(model.func.alpha)(t_inputs)\n",
    "    beta_raw = jax.vmap(model.func.beta)(t_inputs)\n",
    "    alpha = alpha_raw[:, 0]\n",
    "    beta = beta_raw[:, 0]\n",
    "    return alpha, beta\n",
    "\n",
    "ts_plot = jnp.linspace(0, 20, 1000)\n",
    "\n",
    "alpha_vals, beta_vals = get_alpha_beta(model, ts_plot)\n",
    "\n",
    "alpha_true = 0.2 * jnp.ones_like(ts_plot)\n",
    "beta_true = 0.025 * jnp.ones_like(ts_plot)\n",
    "\n",
    "plt.figure(figsize=(12, 5))\n",
    "\n",
    "plt.subplot(1, 2, 1)\n",
    "plt.plot(ts_plot, alpha_vals, label='learned alpha(t)', color='blue')\n",
    "plt.plot(ts_plot, alpha_true, label='true alpha', linestyle='dashed', color='cyan')\n",
    "plt.title('Alpha over time')\n",
    "plt.xlabel('t')\n",
    "plt.ylabel('alpha')\n",
    "plt.legend()\n",
    "\n",
    "plt.subplot(1, 2, 2)\n",
    "plt.plot(ts_plot, beta_vals, label='learned beta(t)', color='red')\n",
    "plt.plot(ts_plot, beta_true, label='true beta', linestyle='dashed', color='orange')\n",
    "plt.title('Beta over time')\n",
    "plt.xlabel('t')\n",
    "plt.ylabel('beta')\n",
    "plt.legend()\n",
    "\n",
    "plt.tight_layout()\n",
    "plt.show()"
   ]
  }
 ],
 "metadata": {
  "accelerator": "GPU",
  "colab": {
   "gpuType": "T4",
   "provenance": []
  },
  "kernelspec": {
   "display_name": "Python 3",
   "name": "python3"
  },
  "language_info": {
   "codemirror_mode": {
    "name": "ipython",
    "version": 3
   },
   "file_extension": ".py",
   "mimetype": "text/x-python",
   "name": "python",
   "nbconvert_exporter": "python",
   "pygments_lexer": "ipython3",
   "version": "3.12.7"
  }
 },
 "nbformat": 4,
 "nbformat_minor": 5
}
